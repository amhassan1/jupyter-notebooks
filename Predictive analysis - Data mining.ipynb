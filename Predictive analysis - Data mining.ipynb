{
 "cells": [
  {
   "cell_type": "code",
   "execution_count": 1,
   "id": "98303ea2",
   "metadata": {},
   "outputs": [],
   "source": [
    "from pyspark.sql import SparkSession\n",
    "from pyspark.sql.functions import collect_list, countDistinct\n",
    "from pyspark.ml.fpm import FPGrowth\n",
    "\n",
    "spark = SparkSession.builder.master(\"local\").appName(\"MIC\").getOrCreate()"
   ]
  },
  {
   "cell_type": "markdown",
   "id": "b14a056d",
   "metadata": {},
   "source": [
    "## Load Data\n",
    "### Orders"
   ]
  },
  {
   "cell_type": "code",
   "execution_count": 2,
   "id": "e93c5bc7",
   "metadata": {},
   "outputs": [
    {
     "data": {
      "text/html": [
       "<div>\n",
       "<style scoped>\n",
       "    .dataframe tbody tr th:only-of-type {\n",
       "        vertical-align: middle;\n",
       "    }\n",
       "\n",
       "    .dataframe tbody tr th {\n",
       "        vertical-align: top;\n",
       "    }\n",
       "\n",
       "    .dataframe thead th {\n",
       "        text-align: right;\n",
       "    }\n",
       "</style>\n",
       "<table border=\"1\" class=\"dataframe\">\n",
       "  <thead>\n",
       "    <tr style=\"text-align: right;\">\n",
       "      <th></th>\n",
       "      <th>order_id</th>\n",
       "      <th>product_id</th>\n",
       "      <th>add_to_cart_order</th>\n",
       "      <th>reordered</th>\n",
       "    </tr>\n",
       "  </thead>\n",
       "  <tbody>\n",
       "    <tr>\n",
       "      <th>0</th>\n",
       "      <td>1</td>\n",
       "      <td>49302</td>\n",
       "      <td>1</td>\n",
       "      <td>1</td>\n",
       "    </tr>\n",
       "    <tr>\n",
       "      <th>1</th>\n",
       "      <td>1</td>\n",
       "      <td>11109</td>\n",
       "      <td>2</td>\n",
       "      <td>1</td>\n",
       "    </tr>\n",
       "    <tr>\n",
       "      <th>2</th>\n",
       "      <td>1</td>\n",
       "      <td>10246</td>\n",
       "      <td>3</td>\n",
       "      <td>0</td>\n",
       "    </tr>\n",
       "    <tr>\n",
       "      <th>3</th>\n",
       "      <td>1</td>\n",
       "      <td>49683</td>\n",
       "      <td>4</td>\n",
       "      <td>0</td>\n",
       "    </tr>\n",
       "    <tr>\n",
       "      <th>4</th>\n",
       "      <td>1</td>\n",
       "      <td>43633</td>\n",
       "      <td>5</td>\n",
       "      <td>1</td>\n",
       "    </tr>\n",
       "    <tr>\n",
       "      <th>...</th>\n",
       "      <td>...</td>\n",
       "      <td>...</td>\n",
       "      <td>...</td>\n",
       "      <td>...</td>\n",
       "    </tr>\n",
       "    <tr>\n",
       "      <th>1384612</th>\n",
       "      <td>3421063</td>\n",
       "      <td>14233</td>\n",
       "      <td>3</td>\n",
       "      <td>1</td>\n",
       "    </tr>\n",
       "    <tr>\n",
       "      <th>1384613</th>\n",
       "      <td>3421063</td>\n",
       "      <td>35548</td>\n",
       "      <td>4</td>\n",
       "      <td>1</td>\n",
       "    </tr>\n",
       "    <tr>\n",
       "      <th>1384614</th>\n",
       "      <td>3421070</td>\n",
       "      <td>35951</td>\n",
       "      <td>1</td>\n",
       "      <td>1</td>\n",
       "    </tr>\n",
       "    <tr>\n",
       "      <th>1384615</th>\n",
       "      <td>3421070</td>\n",
       "      <td>16953</td>\n",
       "      <td>2</td>\n",
       "      <td>1</td>\n",
       "    </tr>\n",
       "    <tr>\n",
       "      <th>1384616</th>\n",
       "      <td>3421070</td>\n",
       "      <td>4724</td>\n",
       "      <td>3</td>\n",
       "      <td>1</td>\n",
       "    </tr>\n",
       "  </tbody>\n",
       "</table>\n",
       "<p>1384617 rows × 4 columns</p>\n",
       "</div>"
      ],
      "text/plain": [
       "        order_id product_id add_to_cart_order reordered\n",
       "0              1      49302                 1         1\n",
       "1              1      11109                 2         1\n",
       "2              1      10246                 3         0\n",
       "3              1      49683                 4         0\n",
       "4              1      43633                 5         1\n",
       "...          ...        ...               ...       ...\n",
       "1384612  3421063      14233                 3         1\n",
       "1384613  3421063      35548                 4         1\n",
       "1384614  3421070      35951                 1         1\n",
       "1384615  3421070      16953                 2         1\n",
       "1384616  3421070       4724                 3         1\n",
       "\n",
       "[1384617 rows x 4 columns]"
      ]
     },
     "metadata": {},
     "output_type": "display_data"
    }
   ],
   "source": [
    "path = \"D:/datamic_instacart-market-basket-analysis/order_products__train.csv/order_products__train.csv\"\n",
    "\n",
    "orders = spark.read.option('header', 'true').csv(path)\n",
    "display(orders.toPandas())"
   ]
  },
  {
   "cell_type": "markdown",
   "id": "d9d32330",
   "metadata": {},
   "source": [
    "### Products"
   ]
  },
  {
   "cell_type": "code",
   "execution_count": 3,
   "id": "60f82868",
   "metadata": {},
   "outputs": [
    {
     "data": {
      "text/html": [
       "<div>\n",
       "<style scoped>\n",
       "    .dataframe tbody tr th:only-of-type {\n",
       "        vertical-align: middle;\n",
       "    }\n",
       "\n",
       "    .dataframe tbody tr th {\n",
       "        vertical-align: top;\n",
       "    }\n",
       "\n",
       "    .dataframe thead th {\n",
       "        text-align: right;\n",
       "    }\n",
       "</style>\n",
       "<table border=\"1\" class=\"dataframe\">\n",
       "  <thead>\n",
       "    <tr style=\"text-align: right;\">\n",
       "      <th></th>\n",
       "      <th>product_id</th>\n",
       "      <th>product_name</th>\n",
       "      <th>aisle_id</th>\n",
       "      <th>department_id</th>\n",
       "    </tr>\n",
       "  </thead>\n",
       "  <tbody>\n",
       "    <tr>\n",
       "      <th>0</th>\n",
       "      <td>1</td>\n",
       "      <td>Chocolate Sandwich Cookies</td>\n",
       "      <td>61</td>\n",
       "      <td>19</td>\n",
       "    </tr>\n",
       "    <tr>\n",
       "      <th>1</th>\n",
       "      <td>2</td>\n",
       "      <td>All-Seasons Salt</td>\n",
       "      <td>104</td>\n",
       "      <td>13</td>\n",
       "    </tr>\n",
       "    <tr>\n",
       "      <th>2</th>\n",
       "      <td>3</td>\n",
       "      <td>Robust Golden Unsweetened Oolong Tea</td>\n",
       "      <td>94</td>\n",
       "      <td>7</td>\n",
       "    </tr>\n",
       "    <tr>\n",
       "      <th>3</th>\n",
       "      <td>4</td>\n",
       "      <td>Smart Ones Classic Favorites Mini Rigatoni Wit...</td>\n",
       "      <td>38</td>\n",
       "      <td>1</td>\n",
       "    </tr>\n",
       "    <tr>\n",
       "      <th>4</th>\n",
       "      <td>5</td>\n",
       "      <td>Green Chile Anytime Sauce</td>\n",
       "      <td>5</td>\n",
       "      <td>13</td>\n",
       "    </tr>\n",
       "    <tr>\n",
       "      <th>...</th>\n",
       "      <td>...</td>\n",
       "      <td>...</td>\n",
       "      <td>...</td>\n",
       "      <td>...</td>\n",
       "    </tr>\n",
       "    <tr>\n",
       "      <th>49683</th>\n",
       "      <td>49684</td>\n",
       "      <td>Vodka, Triple Distilled, Twist of Vanilla</td>\n",
       "      <td>124</td>\n",
       "      <td>5</td>\n",
       "    </tr>\n",
       "    <tr>\n",
       "      <th>49684</th>\n",
       "      <td>49685</td>\n",
       "      <td>En Croute Roast Hazelnut Cranberry</td>\n",
       "      <td>42</td>\n",
       "      <td>1</td>\n",
       "    </tr>\n",
       "    <tr>\n",
       "      <th>49685</th>\n",
       "      <td>49686</td>\n",
       "      <td>Artisan Baguette</td>\n",
       "      <td>112</td>\n",
       "      <td>3</td>\n",
       "    </tr>\n",
       "    <tr>\n",
       "      <th>49686</th>\n",
       "      <td>49687</td>\n",
       "      <td>Smartblend Healthy Metabolism Dry Cat Food</td>\n",
       "      <td>41</td>\n",
       "      <td>8</td>\n",
       "    </tr>\n",
       "    <tr>\n",
       "      <th>49687</th>\n",
       "      <td>49688</td>\n",
       "      <td>Fresh Foaming Cleanser</td>\n",
       "      <td>73</td>\n",
       "      <td>11</td>\n",
       "    </tr>\n",
       "  </tbody>\n",
       "</table>\n",
       "<p>49688 rows × 4 columns</p>\n",
       "</div>"
      ],
      "text/plain": [
       "      product_id                                       product_name aisle_id  \\\n",
       "0              1                         Chocolate Sandwich Cookies       61   \n",
       "1              2                                   All-Seasons Salt      104   \n",
       "2              3               Robust Golden Unsweetened Oolong Tea       94   \n",
       "3              4  Smart Ones Classic Favorites Mini Rigatoni Wit...       38   \n",
       "4              5                          Green Chile Anytime Sauce        5   \n",
       "...          ...                                                ...      ...   \n",
       "49683      49684          Vodka, Triple Distilled, Twist of Vanilla      124   \n",
       "49684      49685                 En Croute Roast Hazelnut Cranberry       42   \n",
       "49685      49686                                   Artisan Baguette      112   \n",
       "49686      49687         Smartblend Healthy Metabolism Dry Cat Food       41   \n",
       "49687      49688                             Fresh Foaming Cleanser       73   \n",
       "\n",
       "      department_id  \n",
       "0                19  \n",
       "1                13  \n",
       "2                 7  \n",
       "3                 1  \n",
       "4                13  \n",
       "...             ...  \n",
       "49683             5  \n",
       "49684             1  \n",
       "49685             3  \n",
       "49686             8  \n",
       "49687            11  \n",
       "\n",
       "[49688 rows x 4 columns]"
      ]
     },
     "metadata": {},
     "output_type": "display_data"
    }
   ],
   "source": [
    "path = \"D:/datamic_instacart-market-basket-analysis/products.csv/products.csv\"\n",
    "\n",
    "products = spark.read.option('header', 'true').csv(path)\n",
    "display(products.toPandas())"
   ]
  },
  {
   "cell_type": "markdown",
   "id": "8d895236",
   "metadata": {},
   "source": [
    "## Preprocessing\n",
    "Prepare dataframe to be used with algortihm"
   ]
  },
  {
   "cell_type": "code",
   "execution_count": 4,
   "id": "1bd1cbfb",
   "metadata": {},
   "outputs": [
    {
     "data": {
      "text/html": [
       "<div>\n",
       "<style scoped>\n",
       "    .dataframe tbody tr th:only-of-type {\n",
       "        vertical-align: middle;\n",
       "    }\n",
       "\n",
       "    .dataframe tbody tr th {\n",
       "        vertical-align: top;\n",
       "    }\n",
       "\n",
       "    .dataframe thead th {\n",
       "        text-align: right;\n",
       "    }\n",
       "</style>\n",
       "<table border=\"1\" class=\"dataframe\">\n",
       "  <thead>\n",
       "    <tr style=\"text-align: right;\">\n",
       "      <th></th>\n",
       "      <th>order_id</th>\n",
       "      <th>product_id</th>\n",
       "      <th>add_to_cart_order</th>\n",
       "      <th>reordered</th>\n",
       "      <th>product_id</th>\n",
       "      <th>product_name</th>\n",
       "      <th>aisle_id</th>\n",
       "      <th>department_id</th>\n",
       "    </tr>\n",
       "  </thead>\n",
       "  <tbody>\n",
       "    <tr>\n",
       "      <th>0</th>\n",
       "      <td>1</td>\n",
       "      <td>49302</td>\n",
       "      <td>1</td>\n",
       "      <td>1</td>\n",
       "      <td>49302</td>\n",
       "      <td>Bulgarian Yogurt</td>\n",
       "      <td>120</td>\n",
       "      <td>16</td>\n",
       "    </tr>\n",
       "    <tr>\n",
       "      <th>1</th>\n",
       "      <td>1</td>\n",
       "      <td>11109</td>\n",
       "      <td>2</td>\n",
       "      <td>1</td>\n",
       "      <td>11109</td>\n",
       "      <td>Organic 4% Milk Fat Whole Milk Cottage Cheese</td>\n",
       "      <td>108</td>\n",
       "      <td>16</td>\n",
       "    </tr>\n",
       "    <tr>\n",
       "      <th>2</th>\n",
       "      <td>1</td>\n",
       "      <td>10246</td>\n",
       "      <td>3</td>\n",
       "      <td>0</td>\n",
       "      <td>10246</td>\n",
       "      <td>Organic Celery Hearts</td>\n",
       "      <td>83</td>\n",
       "      <td>4</td>\n",
       "    </tr>\n",
       "    <tr>\n",
       "      <th>3</th>\n",
       "      <td>1</td>\n",
       "      <td>49683</td>\n",
       "      <td>4</td>\n",
       "      <td>0</td>\n",
       "      <td>49683</td>\n",
       "      <td>Cucumber Kirby</td>\n",
       "      <td>83</td>\n",
       "      <td>4</td>\n",
       "    </tr>\n",
       "    <tr>\n",
       "      <th>4</th>\n",
       "      <td>1</td>\n",
       "      <td>43633</td>\n",
       "      <td>5</td>\n",
       "      <td>1</td>\n",
       "      <td>43633</td>\n",
       "      <td>Lightly Smoked Sardines in Olive Oil</td>\n",
       "      <td>95</td>\n",
       "      <td>15</td>\n",
       "    </tr>\n",
       "    <tr>\n",
       "      <th>...</th>\n",
       "      <td>...</td>\n",
       "      <td>...</td>\n",
       "      <td>...</td>\n",
       "      <td>...</td>\n",
       "      <td>...</td>\n",
       "      <td>...</td>\n",
       "      <td>...</td>\n",
       "      <td>...</td>\n",
       "    </tr>\n",
       "    <tr>\n",
       "      <th>1384612</th>\n",
       "      <td>3421063</td>\n",
       "      <td>14233</td>\n",
       "      <td>3</td>\n",
       "      <td>1</td>\n",
       "      <td>14233</td>\n",
       "      <td>Natural Artesian Water</td>\n",
       "      <td>115</td>\n",
       "      <td>7</td>\n",
       "    </tr>\n",
       "    <tr>\n",
       "      <th>1384613</th>\n",
       "      <td>3421063</td>\n",
       "      <td>35548</td>\n",
       "      <td>4</td>\n",
       "      <td>1</td>\n",
       "      <td>35548</td>\n",
       "      <td>Twice Baked Potatoes</td>\n",
       "      <td>13</td>\n",
       "      <td>20</td>\n",
       "    </tr>\n",
       "    <tr>\n",
       "      <th>1384614</th>\n",
       "      <td>3421070</td>\n",
       "      <td>35951</td>\n",
       "      <td>1</td>\n",
       "      <td>1</td>\n",
       "      <td>35951</td>\n",
       "      <td>Organic Unsweetened Almond Milk</td>\n",
       "      <td>91</td>\n",
       "      <td>16</td>\n",
       "    </tr>\n",
       "    <tr>\n",
       "      <th>1384615</th>\n",
       "      <td>3421070</td>\n",
       "      <td>16953</td>\n",
       "      <td>2</td>\n",
       "      <td>1</td>\n",
       "      <td>16953</td>\n",
       "      <td>Creamy Peanut Butter</td>\n",
       "      <td>88</td>\n",
       "      <td>13</td>\n",
       "    </tr>\n",
       "    <tr>\n",
       "      <th>1384616</th>\n",
       "      <td>3421070</td>\n",
       "      <td>4724</td>\n",
       "      <td>3</td>\n",
       "      <td>1</td>\n",
       "      <td>4724</td>\n",
       "      <td>Broccoli Florettes</td>\n",
       "      <td>32</td>\n",
       "      <td>4</td>\n",
       "    </tr>\n",
       "  </tbody>\n",
       "</table>\n",
       "<p>1384617 rows × 8 columns</p>\n",
       "</div>"
      ],
      "text/plain": [
       "        order_id product_id add_to_cart_order reordered product_id  \\\n",
       "0              1      49302                 1         1      49302   \n",
       "1              1      11109                 2         1      11109   \n",
       "2              1      10246                 3         0      10246   \n",
       "3              1      49683                 4         0      49683   \n",
       "4              1      43633                 5         1      43633   \n",
       "...          ...        ...               ...       ...        ...   \n",
       "1384612  3421063      14233                 3         1      14233   \n",
       "1384613  3421063      35548                 4         1      35548   \n",
       "1384614  3421070      35951                 1         1      35951   \n",
       "1384615  3421070      16953                 2         1      16953   \n",
       "1384616  3421070       4724                 3         1       4724   \n",
       "\n",
       "                                          product_name aisle_id department_id  \n",
       "0                                     Bulgarian Yogurt      120            16  \n",
       "1        Organic 4% Milk Fat Whole Milk Cottage Cheese      108            16  \n",
       "2                                Organic Celery Hearts       83             4  \n",
       "3                                       Cucumber Kirby       83             4  \n",
       "4                 Lightly Smoked Sardines in Olive Oil       95            15  \n",
       "...                                                ...      ...           ...  \n",
       "1384612                         Natural Artesian Water      115             7  \n",
       "1384613                           Twice Baked Potatoes       13            20  \n",
       "1384614                Organic Unsweetened Almond Milk       91            16  \n",
       "1384615                           Creamy Peanut Butter       88            13  \n",
       "1384616                             Broccoli Florettes       32             4  \n",
       "\n",
       "[1384617 rows x 8 columns]"
      ]
     },
     "metadata": {},
     "output_type": "display_data"
    }
   ],
   "source": [
    "orders_products = orders.join(products, orders.product_id == products.product_id, 'inner')\n",
    "display(orders_products.toPandas())"
   ]
  },
  {
   "cell_type": "code",
   "execution_count": 5,
   "id": "173c2493",
   "metadata": {},
   "outputs": [
    {
     "data": {
      "text/html": [
       "<div>\n",
       "<style scoped>\n",
       "    .dataframe tbody tr th:only-of-type {\n",
       "        vertical-align: middle;\n",
       "    }\n",
       "\n",
       "    .dataframe tbody tr th {\n",
       "        vertical-align: top;\n",
       "    }\n",
       "\n",
       "    .dataframe thead th {\n",
       "        text-align: right;\n",
       "    }\n",
       "</style>\n",
       "<table border=\"1\" class=\"dataframe\">\n",
       "  <thead>\n",
       "    <tr style=\"text-align: right;\">\n",
       "      <th></th>\n",
       "      <th>order_id</th>\n",
       "      <th>products</th>\n",
       "    </tr>\n",
       "  </thead>\n",
       "  <tbody>\n",
       "    <tr>\n",
       "      <th>0</th>\n",
       "      <td>1</td>\n",
       "      <td>[Bulgarian Yogurt, Organic 4% Milk Fat Whole M...</td>\n",
       "    </tr>\n",
       "    <tr>\n",
       "      <th>1</th>\n",
       "      <td>100000</td>\n",
       "      <td>[I Heart Baby Kale, Gala Apples, Organic Yello...</td>\n",
       "    </tr>\n",
       "    <tr>\n",
       "      <th>2</th>\n",
       "      <td>1000008</td>\n",
       "      <td>[ZzzQuil Liquid Warming Berry Flavor Sleep-Aid...</td>\n",
       "    </tr>\n",
       "    <tr>\n",
       "      <th>3</th>\n",
       "      <td>1000029</td>\n",
       "      <td>[Almond Chia Granola Clusters, Fresh Cauliflow...</td>\n",
       "    </tr>\n",
       "    <tr>\n",
       "      <th>4</th>\n",
       "      <td>100003</td>\n",
       "      <td>[Organic Salted Butter, Cereal]</td>\n",
       "    </tr>\n",
       "    <tr>\n",
       "      <th>...</th>\n",
       "      <td>...</td>\n",
       "      <td>...</td>\n",
       "    </tr>\n",
       "    <tr>\n",
       "      <th>131204</th>\n",
       "      <td>999879</td>\n",
       "      <td>[Organic Gala Apples, Seedless Red Grapes, Ban...</td>\n",
       "    </tr>\n",
       "    <tr>\n",
       "      <th>131205</th>\n",
       "      <td>999926</td>\n",
       "      <td>[Total 0% Greek Yogurt, Whole Strawberries, Li...</td>\n",
       "    </tr>\n",
       "    <tr>\n",
       "      <th>131206</th>\n",
       "      <td>999964</td>\n",
       "      <td>[Original Almondmilk]</td>\n",
       "    </tr>\n",
       "    <tr>\n",
       "      <th>131207</th>\n",
       "      <td>999971</td>\n",
       "      <td>[Organic Baby Spinach, Frozen Organic Blueberr...</td>\n",
       "    </tr>\n",
       "    <tr>\n",
       "      <th>131208</th>\n",
       "      <td>999985</td>\n",
       "      <td>[Limes, Bunched Cilantro, Jalapeno Peppers, Ye...</td>\n",
       "    </tr>\n",
       "  </tbody>\n",
       "</table>\n",
       "<p>131209 rows × 2 columns</p>\n",
       "</div>"
      ],
      "text/plain": [
       "       order_id                                           products\n",
       "0             1  [Bulgarian Yogurt, Organic 4% Milk Fat Whole M...\n",
       "1        100000  [I Heart Baby Kale, Gala Apples, Organic Yello...\n",
       "2       1000008  [ZzzQuil Liquid Warming Berry Flavor Sleep-Aid...\n",
       "3       1000029  [Almond Chia Granola Clusters, Fresh Cauliflow...\n",
       "4        100003                    [Organic Salted Butter, Cereal]\n",
       "...         ...                                                ...\n",
       "131204   999879  [Organic Gala Apples, Seedless Red Grapes, Ban...\n",
       "131205   999926  [Total 0% Greek Yogurt, Whole Strawberries, Li...\n",
       "131206   999964                              [Original Almondmilk]\n",
       "131207   999971  [Organic Baby Spinach, Frozen Organic Blueberr...\n",
       "131208   999985  [Limes, Bunched Cilantro, Jalapeno Peppers, Ye...\n",
       "\n",
       "[131209 rows x 2 columns]"
      ]
     },
     "metadata": {},
     "output_type": "display_data"
    }
   ],
   "source": [
    "#group products in same order into one array column\n",
    "grouped_df = orders_products.groupBy('order_id').agg(collect_list('product_name').alias('products'))\n",
    "\n",
    "display(grouped_df.toPandas())"
   ]
  },
  {
   "cell_type": "markdown",
   "id": "6d8e6500",
   "metadata": {},
   "source": [
    "split data into train and test datasets\n",
    "Will do an 80% - 20% split"
   ]
  },
  {
   "cell_type": "code",
   "execution_count": 6,
   "id": "34b0a6b9",
   "metadata": {},
   "outputs": [],
   "source": [
    "train, test = grouped_df.randomSplit([0.8, 0.2], seed=289)"
   ]
  },
  {
   "cell_type": "markdown",
   "id": "f36c631e",
   "metadata": {},
   "source": [
    "### Model Parameters\n",
    "\n",
    "[FP-growth](https://spark.apache.org/docs/latest/ml-frequent-pattern-mining.html) implementation takes the following parameters:<br>\n",
    "\n",
    "**minSupport**: the minimum support for an itemset to be identified as frequent. For example, if an item appears 3 out of 5 transactions, it has a support of 3/5=0.6. <br>\n",
    "\n",
    "**minConfidence**: minimum confidence for generating Association Rule. Confidence is an indication of how often an association rule has been found to be true. For example, if in the transactions itemset X appears 4 times, X and Y co-occur only 2 times, the confidence for the rule X => Y is then 2/4 = 0.5. The parameter will not affect the mining for frequent itemsets, but specify the minimum confidence for generating association rules from frequent itemsets. <br>\n"
   ]
  },
  {
   "cell_type": "markdown",
   "id": "0e16607d",
   "metadata": {},
   "source": [
    "# Train and Evaluate models\n",
    "\n",
    "## Testing different support values\n",
    "---\n",
    "#### minimum support = 0.01 and minimum confidence = 0.2"
   ]
  },
  {
   "cell_type": "code",
   "execution_count": 8,
   "id": "026736d9",
   "metadata": {},
   "outputs": [],
   "source": [
    "fpGrowth = FPGrowth(itemsCol=\"products\", minSupport=0.01, minConfidence=0.2)\n",
    "\n",
    "model = fpGrowth.fit(train)"
   ]
  },
  {
   "cell_type": "code",
   "execution_count": 9,
   "id": "5781ea16",
   "metadata": {
    "scrolled": true
   },
   "outputs": [],
   "source": [
    "cart = spark.createDataFrame([\n",
    "    (1, [\"Compostable Forks\"]),\n",
    "    (2, [\"Skim Milk\"]),\n",
    "    (3, [\"Organic Milk\"]),\n",
    "    (4, [\"Half & Half\"]),\n",
    "    (5, [\"Blackberries\"]),\n",
    "    (6, [\"Organic Egg Whites\"])\n",
    "], [\"order_id\", \"products\"])"
   ]
  },
  {
   "cell_type": "code",
   "execution_count": 10,
   "id": "fccf2a69",
   "metadata": {
    "scrolled": true
   },
   "outputs": [
    {
     "name": "stdout",
     "output_type": "stream",
     "text": [
      "+--------+--------------------+----------+\n",
      "|order_id|products            |prediction|\n",
      "+--------+--------------------+----------+\n",
      "|1       |[Compostable Forks] |[]        |\n",
      "|2       |[Skim Milk]         |[]        |\n",
      "|3       |[Organic Milk]      |[]        |\n",
      "|4       |[Half & Half]       |[]        |\n",
      "|5       |[Blackberries]      |[]        |\n",
      "|6       |[Organic Egg Whites]|[]        |\n",
      "+--------+--------------------+----------+\n",
      "\n"
     ]
    }
   ],
   "source": [
    "pred = model.transform(cart)\n",
    "pred.show(truncate=False)"
   ]
  },
  {
   "cell_type": "markdown",
   "id": "a882983c",
   "metadata": {},
   "source": [
    "### No predictions for any of the products"
   ]
  },
  {
   "cell_type": "markdown",
   "id": "48ba87cf",
   "metadata": {},
   "source": [
    "---\n",
    "#### minimum support = 0.001 and minimum confidence = 0.2"
   ]
  },
  {
   "cell_type": "code",
   "execution_count": 11,
   "id": "1ce3bcb4",
   "metadata": {},
   "outputs": [],
   "source": [
    "fpGrowth = FPGrowth(itemsCol=\"products\", minSupport=0.001, minConfidence=0.2)\n",
    "model = fpGrowth.fit(train)"
   ]
  },
  {
   "cell_type": "code",
   "execution_count": 12,
   "id": "fdb46730",
   "metadata": {
    "scrolled": true
   },
   "outputs": [
    {
     "name": "stdout",
     "output_type": "stream",
     "text": [
      "+--------+--------------------+----------------------------------------------+\n",
      "|order_id|products            |prediction                                    |\n",
      "+--------+--------------------+----------------------------------------------+\n",
      "|1       |[Compostable Forks] |[]                                            |\n",
      "|2       |[Skim Milk]         |[]                                            |\n",
      "|3       |[Organic Milk]      |[Bag of Organic Bananas]                      |\n",
      "|4       |[Half & Half]       |[Banana]                                      |\n",
      "|5       |[Blackberries]      |[Raspberries, Strawberries]                   |\n",
      "|6       |[Organic Egg Whites]|[Bag of Organic Bananas, Organic Baby Spinach]|\n",
      "+--------+--------------------+----------------------------------------------+\n",
      "\n"
     ]
    }
   ],
   "source": [
    "pred = model.transform(cart)\n",
    "pred.show(truncate=False)"
   ]
  },
  {
   "cell_type": "markdown",
   "id": "7cb90c58",
   "metadata": {},
   "source": [
    "### Some predictions - Popular products covered but not some of the least popular items"
   ]
  },
  {
   "cell_type": "markdown",
   "id": "4ba547f5",
   "metadata": {},
   "source": [
    "---\n",
    "#### minimum support = 0.0001 and minimum confidence = 0.2"
   ]
  },
  {
   "cell_type": "code",
   "execution_count": 13,
   "id": "6d933d41",
   "metadata": {},
   "outputs": [],
   "source": [
    "fpGrowth = FPGrowth(itemsCol=\"products\", minSupport=0.0001, minConfidence=0.2)\n",
    "model = fpGrowth.fit(train)"
   ]
  },
  {
   "cell_type": "code",
   "execution_count": 14,
   "id": "010b55b0",
   "metadata": {
    "scrolled": false
   },
   "outputs": [
    {
     "name": "stdout",
     "output_type": "stream",
     "text": [
      "+--------+--------------------+----------------------------------------------+\n",
      "|order_id|products            |prediction                                    |\n",
      "+--------+--------------------+----------------------------------------------+\n",
      "|1       |[Compostable Forks] |[Plastic Spoons, Plastic Knives]              |\n",
      "|2       |[Skim Milk]         |[Banana]                                      |\n",
      "|3       |[Organic Milk]      |[Bag of Organic Bananas]                      |\n",
      "|4       |[Half & Half]       |[Banana]                                      |\n",
      "|5       |[Blackberries]      |[Raspberries, Strawberries]                   |\n",
      "|6       |[Organic Egg Whites]|[Bag of Organic Bananas, Organic Baby Spinach]|\n",
      "+--------+--------------------+----------------------------------------------+\n",
      "\n"
     ]
    }
   ],
   "source": [
    "pred = model.transform(cart)\n",
    "pred.show(truncate=False)"
   ]
  },
  {
   "cell_type": "markdown",
   "id": "a631847c",
   "metadata": {},
   "source": [
    "### All transactions get predictions even not common items"
   ]
  },
  {
   "cell_type": "markdown",
   "id": "30a525f3",
   "metadata": {},
   "source": [
    "---\n",
    "## Testing different confidence values\n",
    "\n",
    "#### minimum support = 0.0001 and minimum confidence = 0.5"
   ]
  },
  {
   "cell_type": "code",
   "execution_count": 15,
   "id": "5175822a",
   "metadata": {},
   "outputs": [],
   "source": [
    "fpGrowth = FPGrowth(itemsCol=\"products\", minSupport=0.0001, minConfidence=0.5)\n",
    "model = fpGrowth.fit(train)"
   ]
  },
  {
   "cell_type": "code",
   "execution_count": 16,
   "id": "1eb4f60e",
   "metadata": {
    "scrolled": true
   },
   "outputs": [
    {
     "name": "stdout",
     "output_type": "stream",
     "text": [
      "+--------+--------------------+----------+\n",
      "|order_id|products            |prediction|\n",
      "+--------+--------------------+----------+\n",
      "|1       |[Compostable Forks] |[]        |\n",
      "|2       |[Skim Milk]         |[]        |\n",
      "|3       |[Organic Milk]      |[]        |\n",
      "|4       |[Half & Half]       |[]        |\n",
      "|5       |[Blackberries]      |[]        |\n",
      "|6       |[Organic Egg Whites]|[]        |\n",
      "+--------+--------------------+----------+\n",
      "\n"
     ]
    }
   ],
   "source": [
    "pred = model.transform(cart)\n",
    "pred.show(truncate=False)"
   ]
  },
  {
   "cell_type": "markdown",
   "id": "32ba686d",
   "metadata": {},
   "source": [
    "### with confidence of 50% none of the items in the cart give a prediction\n",
    "---\n",
    "#### minimum support = 0.0001 and minimum confidence = 0.3"
   ]
  },
  {
   "cell_type": "code",
   "execution_count": 17,
   "id": "14e03cfc",
   "metadata": {},
   "outputs": [],
   "source": [
    "fpGrowth = FPGrowth(itemsCol=\"products\", minSupport=0.0001, minConfidence=0.3)\n",
    "model = fpGrowth.fit(train)"
   ]
  },
  {
   "cell_type": "code",
   "execution_count": 18,
   "id": "65fc374e",
   "metadata": {
    "scrolled": false
   },
   "outputs": [
    {
     "name": "stdout",
     "output_type": "stream",
     "text": [
      "+--------+--------------------+--------------------------------+\n",
      "|order_id|products            |prediction                      |\n",
      "+--------+--------------------+--------------------------------+\n",
      "|1       |[Compostable Forks] |[Plastic Spoons, Plastic Knives]|\n",
      "|2       |[Skim Milk]         |[]                              |\n",
      "|3       |[Organic Milk]      |[]                              |\n",
      "|4       |[Half & Half]       |[]                              |\n",
      "|5       |[Blackberries]      |[]                              |\n",
      "|6       |[Organic Egg Whites]|[]                              |\n",
      "+--------+--------------------+--------------------------------+\n",
      "\n"
     ]
    }
   ],
   "source": [
    "pred = model.transform(cart)\n",
    "pred.show(truncate=False)"
   ]
  },
  {
   "cell_type": "markdown",
   "id": "e0f6365f",
   "metadata": {},
   "source": [
    "### only a few predictions not good enough\n",
    "---\n",
    "#### minimum support = 0.0001 and minimum confidence = 0.1"
   ]
  },
  {
   "cell_type": "code",
   "execution_count": 19,
   "id": "81d1a081",
   "metadata": {},
   "outputs": [],
   "source": [
    "fpGrowth = FPGrowth(itemsCol=\"products\", minSupport=0.0001, minConfidence=0.1)\n",
    "model = fpGrowth.fit(train)"
   ]
  },
  {
   "cell_type": "code",
   "execution_count": 20,
   "id": "2199b793",
   "metadata": {
    "scrolled": false
   },
   "outputs": [
    {
     "name": "stdout",
     "output_type": "stream",
     "text": [
      "+--------+--------------------+------------------------------------------------------------------------------------------+\n",
      "|order_id|            products|                                                                                prediction|\n",
      "+--------+--------------------+------------------------------------------------------------------------------------------+\n",
      "|       1| [Compostable Forks]|                                                          [Plastic Spoons, Plastic Knives]|\n",
      "|       2|         [Skim Milk]|              [Organic Strawberries, Bag of Organic Bananas, Organic Baby Spinach, Banana]|\n",
      "|       3|      [Organic Milk]|[Organic Strawberries, Bag of Organic Bananas, Organic Raspberries, Organic Baby Spinac...|\n",
      "|       4|       [Half & Half]|                                    [Organic Strawberries, Bag of Organic Bananas, Banana]|\n",
      "|       5|      [Blackberries]|[Raspberries, Organic Strawberries, Strawberries, Organic Blueberries, Bag of Organic B...|\n",
      "|       6|[Organic Egg Whites]|[Organic Strawberries, Organic Avocado, Organic Cucumber, Large Lemon, Bag of Organic B...|\n",
      "+--------+--------------------+------------------------------------------------------------------------------------------+\n",
      "\n"
     ]
    }
   ],
   "source": [
    "pred = model.transform(cart)\n",
    "pred.show(truncate=90)"
   ]
  },
  {
   "cell_type": "markdown",
   "id": "148a8151",
   "metadata": {},
   "source": [
    "### All items get predictions, but there is overlap between most of the items. The pattern is less reliable\n",
    "---\n",
    "#### minimum support = 0.0001 and minimum confidence = 0.2"
   ]
  },
  {
   "cell_type": "code",
   "execution_count": 21,
   "id": "af95e138",
   "metadata": {},
   "outputs": [],
   "source": [
    "fpGrowth = FPGrowth(itemsCol=\"products\", minSupport=0.0001, minConfidence=0.2)\n",
    "model = fpGrowth.fit(train)"
   ]
  },
  {
   "cell_type": "code",
   "execution_count": 22,
   "id": "b2cfcb5c",
   "metadata": {
    "scrolled": true
   },
   "outputs": [
    {
     "name": "stdout",
     "output_type": "stream",
     "text": [
      "+--------+--------------------+----------------------------------------------+\n",
      "|order_id|products            |prediction                                    |\n",
      "+--------+--------------------+----------------------------------------------+\n",
      "|1       |[Compostable Forks] |[Plastic Spoons, Plastic Knives]              |\n",
      "|2       |[Skim Milk]         |[Banana]                                      |\n",
      "|3       |[Organic Milk]      |[Bag of Organic Bananas]                      |\n",
      "|4       |[Half & Half]       |[Banana]                                      |\n",
      "|5       |[Blackberries]      |[Raspberries, Strawberries]                   |\n",
      "|6       |[Organic Egg Whites]|[Bag of Organic Bananas, Organic Baby Spinach]|\n",
      "+--------+--------------------+----------------------------------------------+\n",
      "\n"
     ]
    }
   ],
   "source": [
    "pred = model.transform(cart)\n",
    "pred.show(truncate=False)"
   ]
  },
  {
   "cell_type": "markdown",
   "id": "8403004a",
   "metadata": {},
   "source": [
    "### With a 20% confidence there is a clearer pattern between the items\n",
    "### For example: organic products associate with other organic products and blackberries with other types of berries\n",
    "\n",
    "### After testing the different parameters we can conclude that minimum support of 0.0001 and a minimum confidence of 20% give us a very reliable set association rules\n",
    "# Evaluate Model"
   ]
  },
  {
   "cell_type": "code",
   "execution_count": 23,
   "id": "4ff216aa",
   "metadata": {
    "scrolled": true
   },
   "outputs": [
    {
     "name": "stdout",
     "output_type": "stream",
     "text": [
      "+--------+--------------------+--------------------+\n",
      "|order_id|            products|          prediction|\n",
      "+--------+--------------------+--------------------+\n",
      "|       1|[Bulgarian Yogurt...|[Organic Cucumber...|\n",
      "| 1000008|[ZzzQuil Liquid W...|            [Banana]|\n",
      "| 1000080|[Oatneal Cookie I...|[Peanut Butter Ic...|\n",
      "| 1000264|[Organic 2% Reduc...|[Organic Strawber...|\n",
      "| 1000277|[Bag of Jumbo Yel...|[Strawberries, Ba...|\n",
      "| 1000520|[Choose-A-Size Wh...|                  []|\n",
      "| 1000834|[Organic & Raw St...|[Organic Strawber...|\n",
      "| 1000872|[Naked Green Mach...|            [Banana]|\n",
      "| 1001005|[Organic Grade A ...|[Bag of Organic B...|\n",
      "| 1001030|[Variety Pack, Ta...|                  []|\n",
      "| 1001087|[Organic Unsweete...|[Organic Yellow O...|\n",
      "| 1001139|[Fig Newmans Frui...|[Organic Strawber...|\n",
      "| 1001169|[Coppertop AA Alk...|                  []|\n",
      "| 1001225|[Organic Blueberr...|[Organic Strawber...|\n",
      "|   10015|[Unsweetened Orga...|[Banana, Bag of O...|\n",
      "| 1001510|[Zero Calorie Gra...|[Bag of Organic B...|\n",
      "| 1001638|[Sweet Onion, Loc...|[Organic Strawber...|\n",
      "| 1001683|[Original Citrus ...|[Sparkling Water ...|\n",
      "| 1001727|[Plain Bagelettes...|[Banana, Bag of O...|\n",
      "| 1001873|[Raspberries, Pac...|[Organic Blueberr...|\n",
      "+--------+--------------------+--------------------+\n",
      "only showing top 20 rows\n",
      "\n"
     ]
    }
   ],
   "source": [
    "predictions = model.transform(test)\n",
    "\n",
    "predictions.show()"
   ]
  }
 ],
 "metadata": {
  "kernelspec": {
   "display_name": "Python 3 (ipykernel)",
   "language": "python",
   "name": "python3"
  },
  "language_info": {
   "codemirror_mode": {
    "name": "ipython",
    "version": 3
   },
   "file_extension": ".py",
   "mimetype": "text/x-python",
   "name": "python",
   "nbconvert_exporter": "python",
   "pygments_lexer": "ipython3",
   "version": "3.9.16"
  }
 },
 "nbformat": 4,
 "nbformat_minor": 5
}
