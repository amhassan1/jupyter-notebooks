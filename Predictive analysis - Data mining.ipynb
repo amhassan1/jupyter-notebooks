{
 "cells": [
  {
   "cell_type": "code",
   "execution_count": 1,
   "id": "98303ea2",
   "metadata": {},
   "outputs": [],
   "source": [
    "from pyspark.sql import SparkSession\n",
    "from pyspark.sql.functions import collect_list\n",
    "from pyspark.ml.fpm import FPGrowth\n",
    "\n",
    "spark = SparkSession.builder.master(\"local\").appName(\"MIC\").getOrCreate()"
   ]
  },
  {
   "cell_type": "markdown",
   "id": "b14a056d",
   "metadata": {},
   "source": [
    "## Load Data\n",
    "### Orders"
   ]
  },
  {
   "cell_type": "code",
   "execution_count": 2,
   "id": "e93c5bc7",
   "metadata": {},
   "outputs": [
    {
     "name": "stdout",
     "output_type": "stream",
     "text": [
      "+--------+----------+-----------------+---------+\n",
      "|order_id|product_id|add_to_cart_order|reordered|\n",
      "+--------+----------+-----------------+---------+\n",
      "|       1|     49302|                1|        1|\n",
      "|       1|     11109|                2|        1|\n",
      "|       1|     10246|                3|        0|\n",
      "|       1|     49683|                4|        0|\n",
      "|       1|     43633|                5|        1|\n",
      "|       1|     13176|                6|        0|\n",
      "|       1|     47209|                7|        0|\n",
      "|       1|     22035|                8|        1|\n",
      "|      36|     39612|                1|        0|\n",
      "|      36|     19660|                2|        1|\n",
      "|      36|     49235|                3|        0|\n",
      "|      36|     43086|                4|        1|\n",
      "|      36|     46620|                5|        1|\n",
      "|      36|     34497|                6|        1|\n",
      "|      36|     48679|                7|        1|\n",
      "|      36|     46979|                8|        1|\n",
      "|      38|     11913|                1|        0|\n",
      "|      38|     18159|                2|        0|\n",
      "|      38|      4461|                3|        0|\n",
      "|      38|     21616|                4|        1|\n",
      "+--------+----------+-----------------+---------+\n",
      "only showing top 20 rows\n",
      "\n"
     ]
    }
   ],
   "source": [
    "path = \"D:/datamic_instacart-market-basket-analysis/order_products__train.csv/order_products__train.csv\"\n",
    "\n",
    "orders = spark.read.option('header', 'true').csv(path)\n",
    "orders.show()"
   ]
  },
  {
   "cell_type": "markdown",
   "id": "d9d32330",
   "metadata": {},
   "source": [
    "### Products"
   ]
  },
  {
   "cell_type": "code",
   "execution_count": 3,
   "id": "60f82868",
   "metadata": {},
   "outputs": [
    {
     "name": "stdout",
     "output_type": "stream",
     "text": [
      "+----------+--------------------+--------+-------------+\n",
      "|product_id|        product_name|aisle_id|department_id|\n",
      "+----------+--------------------+--------+-------------+\n",
      "|         1|Chocolate Sandwic...|      61|           19|\n",
      "|         2|    All-Seasons Salt|     104|           13|\n",
      "|         3|Robust Golden Uns...|      94|            7|\n",
      "|         4|Smart Ones Classi...|      38|            1|\n",
      "|         5|Green Chile Anyti...|       5|           13|\n",
      "|         6|        Dry Nose Oil|      11|           11|\n",
      "|         7|Pure Coconut Wate...|      98|            7|\n",
      "|         8|Cut Russet Potato...|     116|            1|\n",
      "|         9|Light Strawberry ...|     120|           16|\n",
      "|        10|Sparkling Orange ...|     115|            7|\n",
      "|        11|   Peach Mango Juice|      31|            7|\n",
      "|        12|Chocolate Fudge L...|     119|            1|\n",
      "|        13|   Saline Nasal Mist|      11|           11|\n",
      "|        14|Fresh Scent Dishw...|      74|           17|\n",
      "|        15|Overnight Diapers...|      56|           18|\n",
      "|        16|Mint Chocolate Fl...|     103|           19|\n",
      "|        17|   Rendered Duck Fat|      35|           12|\n",
      "|        18|Pizza for One Sup...|      79|            1|\n",
      "|        19|Gluten Free Quino...|      63|            9|\n",
      "|        20|Pomegranate Cranb...|      98|            7|\n",
      "+----------+--------------------+--------+-------------+\n",
      "only showing top 20 rows\n",
      "\n"
     ]
    }
   ],
   "source": [
    "path = \"D:/datamic_instacart-market-basket-analysis/products.csv/products.csv\"\n",
    "\n",
    "products = spark.read.option('header', 'true').csv(path)\n",
    "products.show()"
   ]
  },
  {
   "cell_type": "markdown",
   "id": "8d895236",
   "metadata": {},
   "source": [
    "## Preprocessing\n",
    "Prepare dataframe to be used with algortihm"
   ]
  },
  {
   "cell_type": "code",
   "execution_count": 4,
   "id": "1bd1cbfb",
   "metadata": {},
   "outputs": [
    {
     "name": "stdout",
     "output_type": "stream",
     "text": [
      "+--------+----------+-----------------+---------+----------+--------------------+--------+-------------+\n",
      "|order_id|product_id|add_to_cart_order|reordered|product_id|        product_name|aisle_id|department_id|\n",
      "+--------+----------+-----------------+---------+----------+--------------------+--------+-------------+\n",
      "|       1|     49302|                1|        1|     49302|    Bulgarian Yogurt|     120|           16|\n",
      "|       1|     11109|                2|        1|     11109|Organic 4% Milk F...|     108|           16|\n",
      "|       1|     10246|                3|        0|     10246|Organic Celery He...|      83|            4|\n",
      "|       1|     49683|                4|        0|     49683|      Cucumber Kirby|      83|            4|\n",
      "|       1|     43633|                5|        1|     43633|Lightly Smoked Sa...|      95|           15|\n",
      "|       1|     13176|                6|        0|     13176|Bag of Organic Ba...|      24|            4|\n",
      "|       1|     47209|                7|        0|     47209|Organic Hass Avocado|      24|            4|\n",
      "|       1|     22035|                8|        1|     22035|Organic Whole Str...|      21|           16|\n",
      "|      36|     39612|                1|        0|     39612|Grated Pecorino R...|       2|           16|\n",
      "|      36|     19660|                2|        1|     19660|        Spring Water|     115|            7|\n",
      "|      36|     49235|                3|        0|     49235| Organic Half & Half|      53|           16|\n",
      "|      36|     43086|                4|        1|     43086|  Super Greens Salad|     123|            4|\n",
      "|      36|     46620|                5|        1|     46620|Cage Free Extra L...|      86|           16|\n",
      "|      36|     34497|                6|        1|     34497|Prosciutto, Ameri...|      96|           20|\n",
      "|      36|     48679|                7|        1|     48679|Organic Garnet Sw...|      83|            4|\n",
      "|      36|     46979|                8|        1|     46979|           Asparagus|      83|            4|\n",
      "|      38|     11913|                1|        0|     11913|  Shelled Pistachios|     117|           19|\n",
      "|      38|     18159|                2|        0|     18159|Organic Biologiqu...|     123|            4|\n",
      "|      38|      4461|                3|        0|      4461|Organic Raw Unfil...|      19|           13|\n",
      "|      38|     21616|                4|        1|     21616|Organic Baby Arugula|     123|            4|\n",
      "+--------+----------+-----------------+---------+----------+--------------------+--------+-------------+\n",
      "only showing top 20 rows\n",
      "\n"
     ]
    }
   ],
   "source": [
    "orders_products = orders.join(products, orders.product_id == products.product_id, 'inner')\n",
    "orders_products.show()"
   ]
  },
  {
   "cell_type": "code",
   "execution_count": 5,
   "id": "173c2493",
   "metadata": {},
   "outputs": [
    {
     "name": "stdout",
     "output_type": "stream",
     "text": [
      "+--------+----------------------------------------------------------------------+\n",
      "|order_id|                                                              products|\n",
      "+--------+----------------------------------------------------------------------+\n",
      "|       1|[Bulgarian Yogurt, Organic 4% Milk Fat Whole Milk Cottage Cheese, O...|\n",
      "|  100000|[I Heart Baby Kale, Gala Apples, Organic Yellow Onion, Organic Baby...|\n",
      "| 1000008|[ZzzQuil Liquid Warming Berry Flavor Sleep-Aid, G Series Perform Fr...|\n",
      "| 1000029|[Almond Chia Granola Clusters, Fresh Cauliflower, Orange Bell Peppe...|\n",
      "|  100003|                                       [Organic Salted Butter, Cereal]|\n",
      "| 1000046|[Organic Red Bell Pepper, Organic Avocado, Parsley, Italian (Flat),...|\n",
      "| 1000080|[Oatneal Cookie Ice Cream, Raw Cheddar Chips, Full Head Medium Toot...|\n",
      "| 1000162|[Mexican Style Rice & Pasta, Special K Sausage, Egg & Cheese Flatbr...|\n",
      "| 1000197|    [Sesame Topped Hamburger Buns, ProteinPLUS Multigrain Penne Pasta]|\n",
      "| 1000209|[Organic Super Fruit Punch Juice Drink, Curate Melon Pomelo Sparkin...|\n",
      "| 1000222|[Disinfecting Bathroom Cleaner - Lemongrass Citrus, Green Clary Sag...|\n",
      "| 1000225|[Garlic, Unsalted Butter, Extra Long Grain Enriched Rice, Black Bea...|\n",
      "| 1000247|[Whiskas® Temptations® Mix Ups Backyard Cookout® Pet Treat, Breakfa...|\n",
      "| 1000264|[Organic 2% Reduced Fat Milk, Organic Lowfat 1% Milk, Bag of Organi...|\n",
      "| 1000277|[Bag of Jumbo Yellow Onions, Rainbow Bell Peppers, Organic Diced To...|\n",
      "| 1000293|           [Uncured Pepperoni, Sliced Black Olives, Mozzarella Cheese]|\n",
      "|  100036|[Non Fat Greek Yogurt, Sweet & Salty Nut Granola Bars Peanut, Sea S...|\n",
      "| 1000365|[Half & Half, Pure Irish Butter, Plain Bagels, Whole Milk With Vita...|\n",
      "| 1000420|[Black Seedless Grapes, Organic Extra Virgin Olive Oil, Braeburn Ap...|\n",
      "| 1000448|[Organic Cucumber, Organic Brown Rice Crisps Cereal, Organic Banana...|\n",
      "+--------+----------------------------------------------------------------------+\n",
      "only showing top 20 rows\n",
      "\n"
     ]
    }
   ],
   "source": [
    "#group products in same order into one array column\n",
    "grouped_df = orders_products.groupBy('order_id').agg(collect_list('product_name').alias('products'))\n",
    "\n",
    "grouped_df.show(truncate=70)"
   ]
  },
  {
   "cell_type": "markdown",
   "id": "6d8e6500",
   "metadata": {},
   "source": [
    "split data into train and test datasets\n",
    "Will do an 80% - 20% split"
   ]
  },
  {
   "cell_type": "code",
   "execution_count": 6,
   "id": "34b0a6b9",
   "metadata": {},
   "outputs": [],
   "source": [
    "train, test = grouped_df.randomSplit([0.8, 0.2], seed=289)"
   ]
  },
  {
   "cell_type": "markdown",
   "id": "0e16607d",
   "metadata": {},
   "source": [
    "#### Set Model Parameters\n",
    "our dataset has **49688** items\n",
    "while testing diffenrt parameters, I found that a\n",
    "minimum support of **0.01** and a minimum confidence of **0.10**\n",
    "will provide us with good number of association rules"
   ]
  },
  {
   "cell_type": "code",
   "execution_count": 7,
   "id": "026736d9",
   "metadata": {},
   "outputs": [],
   "source": [
    "fpGrowth = FPGrowth(itemsCol=\"products\", minSupport=0.01, minConfidence=0.10)"
   ]
  },
  {
   "cell_type": "markdown",
   "id": "33aa72e9",
   "metadata": {},
   "source": [
    "## Train Model"
   ]
  },
  {
   "cell_type": "code",
   "execution_count": 8,
   "id": "367a3b4d",
   "metadata": {},
   "outputs": [],
   "source": [
    "model = fpGrowth.fit(train)"
   ]
  },
  {
   "cell_type": "code",
   "execution_count": 9,
   "id": "906a80ac",
   "metadata": {},
   "outputs": [
    {
     "name": "stderr",
     "output_type": "stream",
     "text": [
      "C:\\Users\\Abdul\\anaconda3\\lib\\site-packages\\pyspark\\sql\\context.py:125: FutureWarning: Deprecated in 3.0.0. Use SparkSession.builder.getOrCreate() instead.\n",
      "  warnings.warn(\n"
     ]
    },
    {
     "name": "stdout",
     "output_type": "stream",
     "text": [
      "+--------------------+----+\n",
      "|               items|freq|\n",
      "+--------------------+----+\n",
      "|   [Unsalted Butter]|1152|\n",
      "|        [Whole Milk]|1061|\n",
      "|[Organic Reduced ...|1232|\n",
      "|     [Russet Potato]|1128|\n",
      "|     [Organic Lemon]|2798|\n",
      "|[Organic Lacinato...|1403|\n",
      "|[Grape White/Gree...|1199|\n",
      "|       [Blueberries]|1854|\n",
      "|[Extra Virgin Oli...|1664|\n",
      "| [Green Bell Pepper]|2016|\n",
      "+--------------------+----+\n",
      "only showing top 10 rows\n",
      "\n"
     ]
    }
   ],
   "source": [
    "frequent_items = model.freqItemsets\n",
    "frequent_items.show(10)"
   ]
  },
  {
   "cell_type": "code",
   "execution_count": 10,
   "id": "7646c384",
   "metadata": {
    "scrolled": false
   },
   "outputs": [
    {
     "name": "stdout",
     "output_type": "stream",
     "text": [
      "+--------------------+--------------------+-------------------+------------------+--------------------+\n",
      "|          antecedent|          consequent|         confidence|              lift|             support|\n",
      "+--------------------+--------------------+-------------------+------------------+--------------------+\n",
      "|       [Large Lemon]|             [Limes]|0.19681421350896003|  4.29177994332976| 0.01227667908665329|\n",
      "|       [Large Lemon]|   [Organic Avocado]|0.16342472047786796| 2.903201882623632|0.010193942868061526|\n",
      "|       [Large Lemon]|            [Banana]| 0.2655843161280441|1.8575817152771383| 0.01656635139008312|\n",
      "|      [Strawberries]|            [Banana]|  0.302759424795958| 2.117596324316266|0.014884876277825547|\n",
      "|[Organic Strawber...|[Bag of Organic B...| 0.2797873569860164| 2.378215255459342|0.023129836629406708|\n",
      "|[Organic Strawber...|            [Banana]|0.20073962787472552|1.4040372101334795|0.016595012897678417|\n",
      "|[Organic Strawber...|[Organic Raspberr...|0.15081474633075234| 3.579541836380918|0.012467755803955288|\n",
      "|[Organic Strawber...|[Organic Baby Spi...|0.14792557494510575| 1.983267571346768|0.012228909907327792|\n",
      "|[Organic Strawber...|[Organic Hass Avo...|0.14052929619785046| 2.533012128987258|0.011617464411961402|\n",
      "|            [Banana]|[Organic Strawber...|0.11607083194119612|1.4040372101334795|0.016595012897678417|\n",
      "+--------------------+--------------------+-------------------+------------------+--------------------+\n",
      "only showing top 10 rows\n",
      "\n"
     ]
    }
   ],
   "source": [
    "association_rules = model.associationRules\n",
    "association_rules.show(10)"
   ]
  },
  {
   "cell_type": "code",
   "execution_count": 11,
   "id": "344d9eec",
   "metadata": {},
   "outputs": [
    {
     "name": "stdout",
     "output_type": "stream",
     "text": [
      "number of frequent items and associations rules\n"
     ]
    },
    {
     "data": {
      "text/plain": [
       "(118, 31)"
      ]
     },
     "execution_count": 11,
     "metadata": {},
     "output_type": "execute_result"
    }
   ],
   "source": [
    "print(\"number of frequent items and associations rules\")\n",
    "frequent_items.count(), association_rules.count()"
   ]
  },
  {
   "cell_type": "markdown",
   "id": "9712616b",
   "metadata": {},
   "source": [
    "## Evaluate Model"
   ]
  },
  {
   "cell_type": "code",
   "execution_count": 12,
   "id": "5719aaee",
   "metadata": {},
   "outputs": [
    {
     "name": "stdout",
     "output_type": "stream",
     "text": [
      "+--------+--------------------------------------------------+--------------------------------------------------+\n",
      "|order_id|                                          products|                                        prediction|\n",
      "+--------+--------------------------------------------------+--------------------------------------------------+\n",
      "|       1|[Bulgarian Yogurt, Organic 4% Milk Fat Whole Mi...|[Organic Strawberries, Organic Raspberries, Org...|\n",
      "| 1000008|[ZzzQuil Liquid Warming Berry Flavor Sleep-Aid,...|                                                []|\n",
      "| 1000080|[Oatneal Cookie Ice Cream, Raw Cheddar Chips, F...|                                                []|\n",
      "| 1000264|[Organic 2% Reduced Fat Milk, Organic Lowfat 1%...|[Organic Strawberries, Organic Raspberries, Org...|\n",
      "| 1000277|[Bag of Jumbo Yellow Onions, Rainbow Bell Peppe...|                                                []|\n",
      "| 1000520|[Choose-A-Size White Paper Towels 8 Giant Rolls...|                                                []|\n",
      "| 1000834|[Organic & Raw Strawberry Serenity Kombucha, Na...|                                                []|\n",
      "| 1000872|[Naked Green Machine Boosted Juice Smoothie, Ca...|                                                []|\n",
      "| 1001005|[Organic Grade A Free Range Large Brown Eggs, O...|                                                []|\n",
      "| 1001030|[Variety Pack, Tall Kitchen Bag With Febreze Od...|                                                []|\n",
      "| 1001087|[Organic Unsweetened Almond Milk, Bag of Organi...|[Banana, Organic Strawberries, Organic Raspberr...|\n",
      "| 1001139|        [Fig Newmans Fruit Filled Cookies, Banana]|[Organic Strawberries, Organic Avocado, Large L...|\n",
      "| 1001169|[Coppertop AA Alkaline Batteries, Coppertop AAA...|                                                []|\n",
      "| 1001225|[Organic Blueberries, Organic Cilantro, Chicken...|[Organic Strawberries, Organic Avocado, Large L...|\n",
      "|   10015|[Unsweetened Organic Soy Milk, Hazelnut Spread ...|                                                []|\n",
      "| 1001510|[Zero Calorie Grape Soda, Limes, Large Lemon, P...|                         [Organic Avocado, Banana]|\n",
      "| 1001638|[Sweet Onion, Local Living Butter Lettuce, Mult...|                                                []|\n",
      "| 1001683|[Original Citrus Sparkling Flavored Soda, Fridg...|                                                []|\n",
      "| 1001727|[Plain Bagelettes, Organic Old Fashioned Rolled...|                                          [Banana]|\n",
      "| 1001873|[Raspberries, Packaged Grape Tomatoes, Organic ...|[Banana, Organic Strawberries, Organic Raspberr...|\n",
      "| 1002029|[Synergy Organic Kombucha Gingerberry, Total 2%...|                                                []|\n",
      "| 1002074|[Chard, Green, New England Grown, Watercress, B...|                                                []|\n",
      "| 1002166|[Plus A Touch of Downy April Fresh Liquid Laund...|                                                []|\n",
      "| 1002448|[Seedless Red Grapes, Pistachios, Extra Fancy U...|                                                []|\n",
      "|  100248|[Wonderful 100% Pomegranate Juice, Sparkling Na...|                                                []|\n",
      "| 1002606|[Original Potato Crisps, Bolthouse Baby Carrots...|                                                []|\n",
      "| 1002660|[Cookie Tray, Original Almondmilk, Homogenized ...|                                                []|\n",
      "| 1002997|[CopperTop AAA Alkaline, Natural Laundry Deterg...|                                                []|\n",
      "|  100302|[Organic Garlic, Tuna, Solid Pack Light, Mini A...|                                                []|\n",
      "| 1003055|[Organic Lemon, Organic Navel Orange, Flax Plus...|[Organic Strawberries, Organic Raspberries, Org...|\n",
      "| 1003123|[Citrus Soda Mini Cans, Super Soft Taco Flour T...|                                                []|\n",
      "| 1003210|[Red Peppers, Organic Coconut Cream, Lemon Slic...|                                                []|\n",
      "| 1003258|[Organic Good Seed Bread, Crushed Tomato, Bag o...|[Organic Strawberries, Organic Raspberries, Org...|\n",
      "| 1003458|[Gin, Premium Indian Tonic Water, Organic Cucum...|                         [Organic Avocado, Banana]|\n",
      "| 1003473|[Original Almondmilk, Clementines, Gala Apples,...|                                                []|\n",
      "| 1003547|[Honeycrisp Apples, Strawberries, Sparkling Min...|                                          [Banana]|\n",
      "| 1003624|[Overstuffed Italian Sausage Ravioli, Sea Salte...|                                                []|\n",
      "| 1003631|[Fat Free Milk, Sumatra Dark Roast K-Cups, Mila...|                                                []|\n",
      "| 1003704|[Pure Sparkling Water, Grade A Large White Eggs...|                                                []|\n",
      "| 1003833|[Lemon Verbena Hand Soap, Banana, Authentic Fre...|[Organic Strawberries, Organic Avocado, Large L...|\n",
      "+--------+--------------------------------------------------+--------------------------------------------------+\n",
      "only showing top 40 rows\n",
      "\n"
     ]
    }
   ],
   "source": [
    "predictions = model.transform(test)\n",
    "predictions.show(40, truncate=50)"
   ]
  }
 ],
 "metadata": {
  "kernelspec": {
   "display_name": "Python 3 (ipykernel)",
   "language": "python",
   "name": "python3"
  },
  "language_info": {
   "codemirror_mode": {
    "name": "ipython",
    "version": 3
   },
   "file_extension": ".py",
   "mimetype": "text/x-python",
   "name": "python",
   "nbconvert_exporter": "python",
   "pygments_lexer": "ipython3",
   "version": "3.9.16"
  }
 },
 "nbformat": 4,
 "nbformat_minor": 5
}
